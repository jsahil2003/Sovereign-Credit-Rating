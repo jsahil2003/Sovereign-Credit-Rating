{
 "cells": [
  {
   "cell_type": "code",
   "execution_count": 20,
   "id": "6055a4eb-d204-4833-a780-efa819483e4d",
   "metadata": {},
   "outputs": [],
   "source": [
    "import numpy as np\n",
    "import pandas as pd\n",
    "import seaborn as sns\n",
    "import matplotlib.pyplot as plt"
   ]
  },
  {
   "cell_type": "code",
   "execution_count": 2,
   "id": "90f31bc8-e1bd-497d-a1a0-407e2bbc504f",
   "metadata": {},
   "outputs": [],
   "source": [
    "df = pd.read_excel('/Users/sahiljadhav/Documents/scr_proj/credit_rating.xlsx')\n",
    "grouped = df.groupby('Countries')"
   ]
  },
  {
   "cell_type": "code",
   "execution_count": 13,
   "id": "b70e9c41-cf41-443b-b518-6a0a419f6f94",
   "metadata": {},
   "outputs": [],
   "source": [
    "matrix = np.zeros((22,22))"
   ]
  },
  {
   "cell_type": "code",
   "execution_count": 14,
   "id": "a180bb59-859c-438e-bac3-83ab1f8b0e31",
   "metadata": {},
   "outputs": [],
   "source": [
    "for country,group in grouped:\n",
    "    group_sorted = group.sort_values(by ='Year')\n",
    "    rating = group_sorted['Ratings_numeric'].tolist() \n",
    "    for i in range(len(rating) - 1):\n",
    "        from_rating = rating[i]\n",
    "        to_rating = rating[i+1]\n",
    "        matrix[from_rating][to_rating] += 1"
   ]
  },
  {
   "cell_type": "code",
   "execution_count": 15,
   "id": "e75c5496-34d5-4711-bc90-a2f35e3c1120",
   "metadata": {},
   "outputs": [],
   "source": [
    "row_sum = np.sum(matrix,axis=1)\n",
    "for i in range(22):\n",
    "    for j in range(22):\n",
    "        matrix[i][j] = matrix[i][j] / row_sum[i]"
   ]
  },
  {
   "cell_type": "code",
   "execution_count": 19,
   "id": "a872d421-5237-4d10-bcc9-3002d34a2ac4",
   "metadata": {},
   "outputs": [],
   "source": [
    "tpm = pd.DataFrame(matrix,\n",
    "                   columns = [f\"{i}\" for i in range(22)],\n",
    "                   index = [f\"{i}\" for i in range(22)])"
   ]
  },
  {
   "cell_type": "code",
   "execution_count": 22,
   "id": "a4c89c89-0b87-46ad-a715-ee59e8dc3b66",
   "metadata": {},
   "outputs": [
    {
     "data": {
      "image/png": "[encoded data removed]",
      "text/plain": [
       "<Figure size 640x480 with 2 Axes>"
      ]
     },
     "metadata": {},
     "output_type": "display_data"
    }
   ],
   "source": [
    "sns.heatmap(tpm ,annot = False, cmap='Blues')\n",
    "plt.title('Credit Rating Transitions')\n",
    "plt.show()"
   ]
  },
  {
   "cell_type": "code",
   "execution_count": null,
   "id": "9709d8f6-ac08-4ed9-b0de-72873185b79e",
   "metadata": {},
   "outputs": [],
   "source": []
  },
  {
   "cell_type": "code",
   "execution_count": null,
   "id": "6e664846-29b0-4b7f-a65b-13d622192287",
   "metadata": {},
   "outputs": [],
   "source": []
  },
  {
   "cell_type": "code",
   "execution_count": null,
   "id": "bfd31fb6-c767-4cfb-9628-87dfd80c8e6f",
   "metadata": {},
   "outputs": [],
   "source": []
  },
  {
   "cell_type": "code",
   "execution_count": null,
   "id": "1bf56487-d43f-4fc2-9c79-17f2fc7fcf8c",
   "metadata": {},
   "outputs": [],
   "source": []
  },
  {
   "cell_type": "code",
   "execution_count": null,
   "id": "81ebd3fe-6aff-49d0-b6f5-5df7d3dd393e",
   "metadata": {},
   "outputs": [],
   "source": []
  },
  {
   "cell_type": "code",
   "execution_count": null,
   "id": "18af72c6-8bed-4eb7-9fc0-48e846e86e9d",
   "metadata": {},
   "outputs": [],
   "source": []
  },
  {
   "cell_type": "code",
   "execution_count": null,
   "id": "bbd20521-5c3f-4b5b-8aa7-b7546d18e7fb",
   "metadata": {},
   "outputs": [],
   "source": []
  },
  {
   "cell_type": "code",
   "execution_count": null,
   "id": "a4fea03c-d1ea-4151-8ac2-399e476c5ee1",
   "metadata": {},
   "outputs": [],
   "source": []
  },
  {
   "cell_type": "code",
   "execution_count": null,
   "id": "54a0a49f-3e15-46a0-bbe9-88ced6a2b2ee",
   "metadata": {},
   "outputs": [],
   "source": []
  },
  {
   "cell_type": "code",
   "execution_count": null,
   "id": "271f47e6-5ade-4c15-9eba-b50ca7ee34df",
   "metadata": {},
   "outputs": [],
   "source": []
  },
  {
   "cell_type": "code",
   "execution_count": null,
   "id": "ecc67d64-e84f-42be-8e00-29b04ebdc26b",
   "metadata": {},
   "outputs": [],
   "source": []
  },
  {
   "cell_type": "code",
   "execution_count": null,
   "id": "292b46a1-b997-4fce-9f2e-7f78334d09ab",
   "metadata": {},
   "outputs": [],
   "source": []
  },
  {
   "cell_type": "code",
   "execution_count": null,
   "id": "d27ff58e-f1e7-482a-8c02-f782dd1e8867",
   "metadata": {},
   "outputs": [],
   "source": []
  },
  {
   "cell_type": "code",
   "execution_count": null,
   "id": "1f245592-6d73-47f2-a5e5-0ea344004bb3",
   "metadata": {},
   "outputs": [],
   "source": []
  }
 ],
 "metadata": {
  "kernelspec": {
   "display_name": "Python 3 (ipykernel)",
   "language": "python",
   "name": "python3"
  },
  "language_info": {
   "codemirror_mode": {
    "name": "ipython",
    "version": 3
   },
   "file_extension": ".py",
   "mimetype": "text/x-python",
   "name": "python",
   "nbconvert_exporter": "python",
   "pygments_lexer": "ipython3",
   "version": "3.13.3"
  }
 },
 "nbformat": 4,
 "nbformat_minor": 5
}
